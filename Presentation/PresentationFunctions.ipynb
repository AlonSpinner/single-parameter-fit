{
 "cells": [
  {
   "cell_type": "code",
   "execution_count": 3,
   "id": "a6e85ac8",
   "metadata": {},
   "outputs": [],
   "source": [
    "def DecimalToBinary(a,tau=20):\n",
    "    binary=''\n",
    "    for ii in range(tau):\n",
    "        if a > 0.5:\n",
    "            binary = binary + '1'\n",
    "        else:\n",
    "            binary = binary + '0'           \n",
    "        a = a * 2 % 1\n",
    "    return binary\n",
    "\n",
    "\n",
    "def BinaryToDecimal(binary):\n",
    "    s = 0.0\n",
    "    for ii in range(len(binary)):\n",
    "        s = s + (0.5 ** (ii+1)) * ((binary[ii]) == '1')       \n",
    "    return s"
   ]
  },
  {
   "cell_type": "code",
   "execution_count": 4,
   "id": "48fb1979",
   "metadata": {},
   "outputs": [
    {
     "name": "stdout",
     "output_type": "stream",
     "text": [
      "binary representation 01111001101001101011\n",
      "Decimal error 3.0059814454252987e-07\n",
      "9.5367431640625e-07\n"
     ]
    }
   ],
   "source": [
    "    \n",
    "a = 0.4752\n",
    "tau = 20\n",
    "binary = DecimalToBinary(a,tau)\n",
    "s = BinaryToDecimal(binary)\n",
    "print('binary representation {}'.format(binary))\n",
    "print('Decimal error {}'.format(abs(s-a)))\n",
    "print('Error bound {}'.format(1/(2**tau)))"
   ]
  }
 ],
 "metadata": {
  "interpreter": {
   "hash": "bac7bbf8055d1db8b3b6da9e074f63b1cfe78cf401c996d2ba9e506790babe57"
  },
  "kernelspec": {
   "display_name": "Python 3.9.5 64-bit ('base': conda)",
   "name": "python3"
  },
  "language_info": {
   "codemirror_mode": {
    "name": "ipython",
    "version": 3
   },
   "file_extension": ".py",
   "mimetype": "text/x-python",
   "name": "python",
   "nbconvert_exporter": "python",
   "pygments_lexer": "ipython3",
   "version": "3.9.5"
  }
 },
 "nbformat": 4,
 "nbformat_minor": 5
}
